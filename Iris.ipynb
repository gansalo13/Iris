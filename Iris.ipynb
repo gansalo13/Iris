{
  "nbformat": 4,
  "nbformat_minor": 0,
  "metadata": {
    "colab": {
      "name": "Iris.ipynb",
      "provenance": [],
      "authorship_tag": "ABX9TyOIeIC0fIlDeQzP3rlOXfi2",
      "include_colab_link": true
    },
    "kernelspec": {
      "name": "python3",
      "display_name": "Python 3"
    }
  },
  "cells": [
    {
      "cell_type": "markdown",
      "metadata": {
        "id": "view-in-github",
        "colab_type": "text"
      },
      "source": [
        "<a href=\"https://colab.research.google.com/github/roholy/Iris/blob/main/Iris.ipynb\" target=\"_parent\"><img src=\"https://colab.research.google.com/assets/colab-badge.svg\" alt=\"Open In Colab\"/></a>"
      ]
    },
    {
      "cell_type": "code",
      "metadata": {
        "id": "x3Nn8RhBKgJU",
        "outputId": "e996682d-df4a-439e-e391-8964aad80a88",
        "colab": {
          "base_uri": "https://localhost:8080/"
        }
      },
      "source": [
        "import pandas as pd\n",
        "data = pd.read_csv(\"https://raw.githubusercontent.com/roholy/Iris/main/iris.csv\")\n",
        "print(\"Shape of the data:\")\n",
        "print(data.shape)\n",
        "print(\"\\nData Type:\")\n",
        "print(type(data))\n",
        "print(\"\\nFirst 3 rows:\")\n",
        "print(data.head(3))"
      ],
      "execution_count": 2,
      "outputs": [
        {
          "output_type": "stream",
          "text": [
            "Shape of the data:\n",
            "(150, 1)\n",
            "\n",
            "Data Type:\n",
            "<class 'pandas.core.frame.DataFrame'>\n",
            "\n",
            "First 3 rows:\n",
            "  150\\t4\\tsetosa\\tversicolor\\tvirginica\n",
            "0                 5.1\\t3.5\\t1.4\\t0.2\\t0\n",
            "1                   4.9\\t3\\t1.4\\t0.2\\t0\n",
            "2                 4.7\\t3.2\\t1.3\\t0.2\\t0\n"
          ],
          "name": "stdout"
        }
      ]
    }
  ]
}