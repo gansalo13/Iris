{
  "nbformat": 4,
  "nbformat_minor": 0,
  "metadata": {
    "colab": {
      "name": ".ipynb",
      "provenance": [],
      "authorship_tag": "ABX9TyPvgYHTg72D955JOFqZ+VHC",
      "include_colab_link": true
    },
    "kernelspec": {
      "name": "python3",
      "display_name": "Python 3"
    }
  },
  "cells": [
    {
      "cell_type": "markdown",
      "metadata": {
        "id": "view-in-github",
        "colab_type": "text"
      },
      "source": [
        "<a href=\"https://colab.research.google.com/github/roholy/Iris/blob/main/untitled.ipynb\" target=\"_parent\"><img src=\"https://colab.research.google.com/assets/colab-badge.svg\" alt=\"Open In Colab\"/></a>"
      ]
    },
    {
      "cell_type": "code",
      "metadata": {
        "id": "x3Nn8RhBKgJU",
        "outputId": "686e4a74-73dd-48b5-ed3c-5935ba4f3eab",
        "colab": {
          "base_uri": "https://localhost:8080/"
        }
      },
      "source": [
        "import pandas as pd #pandas helps us deal with data analysis\n",
        "url = \"https://raw.githubusercontent.com/roholy/Iris/main/iris%20(1).csv\"\n",
        "data = pd.read_csv(url) #read the csv from the raw data in github\n",
        "print(\"Shape of the data:\")\n",
        "print(data.shape) #shape returns (rows, columns)\n",
        "print(\"\\nData Type:\")\n",
        "print(type(data)) #returns the data type\n",
        "print(\"\\nFirst 3 rows:\")\n",
        "print(data.head(3)) #shows the first 3 rows"
      ],
      "execution_count": 5,
      "outputs": [
        {
          "output_type": "stream",
          "text": [
            "Shape of the data:\n",
            "(150, 6)\n",
            "\n",
            "Data Type:\n",
            "<class 'pandas.core.frame.DataFrame'>\n",
            "\n",
            "First 3 rows:\n",
            "   Id  SepalLengthCm  SepalWidthCm  PetalLengthCm  PetalWidthCm      Species\n",
            "0   1            5.1           3.5            1.4           0.2  Iris-setosa\n",
            "1   2            4.9           3.0            1.4           0.2  Iris-setosa\n",
            "2   3            4.7           3.2            1.3           0.2  Iris-setosa\n"
          ],
          "name": "stdout"
        }
      ]
    },
    {
      "cell_type": "code",
      "metadata": {
        "id": "TyzGeyjDMfRw",
        "outputId": "65e4d11a-7a58-4c08-83a8-2544d02e909b",
        "colab": {
          "base_uri": "https://localhost:8080/"
        }
      },
      "source": [
        "import pandas as pd\n",
        "iris_data = pd.read_csv(\"https://raw.githubusercontent.com/roholy/Iris/main/iris%20(1).csv\")\n",
        "print(\"\\nKeys of Iris dataset:\")\n",
        "print(iris_data.keys()) #keys() method returs a view objject, it contains the keys of the dictionary as a list\n",
        "print(\"\\nNumber of rows and columns of Iris dataset:\")\n",
        "print(iris_data.shape) #shape returns (rows, columns)"
      ],
      "execution_count": 6,
      "outputs": [
        {
          "output_type": "stream",
          "text": [
            "\n",
            "Keys of Iris dataset:\n",
            "Index(['Id', 'SepalLengthCm', 'SepalWidthCm', 'PetalLengthCm', 'PetalWidthCm',\n",
            "       'Species'],\n",
            "      dtype='object')\n",
            "\n",
            "Number of rows and columns of Iris dataset:\n",
            "(150, 6)\n"
          ],
          "name": "stdout"
        }
      ]
    },
    {
      "cell_type": "code",
      "metadata": {
        "id": "bGug5JrAZpon",
        "outputId": "c48a95ee-1dad-4374-b45f-dd9242c82826",
        "colab": {
          "base_uri": "https://localhost:8080/"
        }
      },
      "source": [
        "print (iris_data.info())"
      ],
      "execution_count": 7,
      "outputs": [
        {
          "output_type": "stream",
          "text": [
            "<class 'pandas.core.frame.DataFrame'>\n",
            "RangeIndex: 150 entries, 0 to 149\n",
            "Data columns (total 6 columns):\n",
            " #   Column         Non-Null Count  Dtype  \n",
            "---  ------         --------------  -----  \n",
            " 0   Id             150 non-null    int64  \n",
            " 1   SepalLengthCm  150 non-null    float64\n",
            " 2   SepalWidthCm   150 non-null    float64\n",
            " 3   PetalLengthCm  150 non-null    float64\n",
            " 4   PetalWidthCm   150 non-null    float64\n",
            " 5   Species        150 non-null    object \n",
            "dtypes: float64(4), int64(1), object(1)\n",
            "memory usage: 7.2+ KB\n",
            "None\n"
          ],
          "name": "stdout"
        }
      ]
    },
    {
      "cell_type": "code",
      "metadata": {
        "id": "X7R2eVulaDkY",
        "outputId": "a1d435c0-6398-4da7-ebe4-5a0fa964e38a",
        "colab": {
          "base_uri": "https://localhost:8080/"
        }
      },
      "source": [
        "import numpy as np\n",
        "from scipy import sparse\n",
        "eye = np.eye(4)\n",
        "print(\"NumPy array:\\n\", eye)\n",
        "sparse_matrix = sparse.csr_matrix(eye)\n",
        "print(\"\\nSciPy sparse CSR matrix:\\n\", sparse_matrix)\n"
      ],
      "execution_count": 8,
      "outputs": [
        {
          "output_type": "stream",
          "text": [
            "NumPy array:\n",
            " [[1. 0. 0. 0.]\n",
            " [0. 1. 0. 0.]\n",
            " [0. 0. 1. 0.]\n",
            " [0. 0. 0. 1.]]\n",
            "\n",
            "SciPy sparse CSR matrix:\n",
            "   (0, 0)\t1.0\n",
            "  (1, 1)\t1.0\n",
            "  (2, 2)\t1.0\n",
            "  (3, 3)\t1.0\n"
          ],
          "name": "stdout"
        }
      ]
    }
  ]
}